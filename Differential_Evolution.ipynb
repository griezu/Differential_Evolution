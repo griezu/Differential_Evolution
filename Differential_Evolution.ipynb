{
 "cells": [
  {
   "cell_type": "markdown",
   "metadata": {},
   "source": [
    "<div style=\"font-size:22pt; line-height:25pt; font-weight:bold; text-align:center;\">Differential evolution algorithm</div>\n",
    "\n",
    "1. [Introduction](#int)\n",
    "2. [L'algorithme DE](#de)\n",
    "    1. [Pseudo-code](#pseudo)\n",
    "    2. [DE python code](#code)\n",
    "    3. [Test](#de)\n",
    "        - [Sphere function](#sf)\n",
    "        - [Rosenbrock function](#rf)\n",
    "        - [Ackley function](#af)\n",
    "        - [Beale function](#bf)\n",
    "        \n",
    "    4. [Comparison Python](#bf)  \n",
    "3. [Polynomial curve fitting example](#curve_fitting)\n",
    "4. [DE variations](#var)\n",
    "5. [References](#ref)\n"
   ]
  },
  {
   "cell_type": "markdown",
   "metadata": {},
   "source": [
    "# <a id=\"data\"></a> Introduction\n",
    "\n",
    "Besides particle swarm optimization (PSO) which I touched on previously, differential evolution (DE) is one of my go-to favorites. Just like PSO, differential evolution falls within the evolutionary algorithms (EA) family. Differential evolution is very similar to genetic algorithms (GA) which are based on the principles of evolutionary biology such as mutation, crossover, and selection.\n",
    "\n",
    "Differential evolution is basically a genetic algorithm that natively supports float value based cost functions.\n",
    "\n",
    "<div class=\"alert alert-success\">\n",
    "<b>Hypothèses:</b>\n",
    "<ul>\n",
    "<li>\n",
    "    \n",
    "</li>\n",
    "\n",
    "<li>\n",
    "    \n",
    "</li>\n",
    "</ul>\n",
    "</div>\n",
    "\n",
    "<div class=\"alert alert-warning\">\n",
    "<b>Limitations:</b>\n",
    "<ul>\n",
    "<li>\n",
    "    \n",
    "</li>\n",
    "\n",
    "<li>\n",
    "    \n",
    "</li>\n",
    "</ul>\n",
    "</div>\n"
   ]
  },
  {
   "cell_type": "markdown",
   "metadata": {},
   "source": [
    "# <a id=\"de\"></a> L'algorithme DE\n",
    "\n",
    "This algorithm, invented by R. Storn and K. Price in 1997, is a very powerful algorithm for black-box optimization (also called derivative-free optimization)"
   ]
  },
  {
   "cell_type": "markdown",
   "metadata": {},
   "source": [
    "## <a id=\"pseudo\"></a> Pseudo-code\n",
    "\n",
    "1) Initialize a random population of individuals throughout the search space.\n",
    "\n",
    "2) while iter <= max num of generations\n",
    "\n",
    "    3) cycle through each individual in the population\n",
    "    \n",
    "        3.A) perform mutation\n",
    "            \n",
    "        3.B) perform recombination (\"crossover\" in GA lingo)\n",
    "            \n",
    "        3.C) perform selection\n",
    "            \n",
    "    4) if stopping criterion has been met:\n",
    "            exit and return best individual\n",
    "            \n",
    "        else:\n",
    "            iter = iter + 1\n",
    "            go back to step #3\n"
   ]
  },
  {
   "cell_type": "markdown",
   "metadata": {},
   "source": [
    "An evolutionary algorithm is an algorithm that uses mechanisms inspired by the theory of evolution, where the fittest individuals of a population (the ones that have the traits that allow them to survive longer) are the ones that produce more offspring, which in turn inherit the good traits of the parents. This makes the new generation more likely to survive in the future as well, and so the population improves over time, generation after generation. This is possible thanks to different mechanisms present in nature, such as mutation, recombination and selection, among others. Evolutionary algorithms apply some of these principles to evolve a solution to a problem."
   ]
  },
  {
   "cell_type": "markdown",
   "metadata": {},
   "source": [
    "Solutions are represented as populations of individuals (or vectors), where each individual is represented by a set of real numbers. These real numbers are the values of the parameters of the function that we want to minimize, and this function measures how good an individual is."
   ]
  },
  {
   "cell_type": "code",
   "execution_count": 49,
   "metadata": {},
   "outputs": [],
   "source": [
    "import numpy as np\n",
    "import matplotlib.pyplot as plt\n",
    "\n",
    "from scipy.optimize import rosen, differential_evolution\n"
   ]
  },
  {
   "cell_type": "code",
   "execution_count": 50,
   "metadata": {},
   "outputs": [],
   "source": [
    "def de(fobj, bounds, mut=0.8, crossp=0.7, popsize=20, its=1000):\n",
    "    \n",
    "#   creation of a population with popsize individuals\n",
    "#   An individual is just an instantiation of the parameters of the function fobj\n",
    "#   initializes the individuals by generating random values for each parameter within the given bounds\n",
    "#   I generate uniform random numbers between 0 and 1, and then I scale the parameters\n",
    "\n",
    "    dimensions = len(bounds)\n",
    "    pop = np.random.rand(popsize, dimensions)\n",
    "    min_b, max_b = np.asarray(bounds).T\n",
    "    diff = np.fabs(min_b - max_b)\n",
    "    \n",
    "#   evaluate each vector with the function fobj\n",
    "    pop_denorm = min_b + pop * diff\n",
    "#   the evaluation of this initial population is done and stored\n",
    "    fitness = np.asarray([fobj(ind) for ind in pop_denorm])\n",
    "    best_idx = np.argmin(fitness)\n",
    "    best = pop_denorm[best_idx]\n",
    "    \n",
    "    for i in range(its):\n",
    "        for j in range(popsize):\n",
    "            idxs = [idx for idx in range(popsize) if idx != j]\n",
    "            \n",
    "#           for each vector pop[j] in the population, we select three other vectors, a, b & c\n",
    "            a, b, c = pop[np.random.choice(idxs, 3, replace = False)]\n",
    "    \n",
    "#           we create a mutant vector by combining a, b and c by computing the difference (differential evolution) \n",
    "#           A larger mutation factor increases the search radius but may slowdown the convergence of the algorithm.\n",
    "#           Values for mut are usually chosen from the interval [0.5, 2.0].\n",
    "            mutant = np.clip(a + mut * (b - c), 0, 1)\n",
    "#           note that values greater than 1 become 1, and the values smaller than 0 become 0\n",
    "\n",
    "#           recombination is about mixing the information of the mutant with the information of the current vector \n",
    "#           to create a trial vector.\n",
    "#           For each position, we decide (with some probability defined by crossp) if that number will be replaced\n",
    "#           or not by the one in the mutant at the same position.\n",
    "            cross_points = np.random.rand(dimensions) < crossp\n",
    "            if not np.any(cross_points):\n",
    "                cross_points[np.random.randint(0, dimensions)] = True\n",
    "            trial = np.where(cross_points, mutant, pop[j])\n",
    "            trial_denorm = min_b + trial * diff\n",
    "            f = fobj(trial_denorm)\n",
    "            if f < fitness[j]:\n",
    "                fitness[j] = f\n",
    "                pop[j] = trial\n",
    "                if f < fitness[best_idx]:\n",
    "                    best_idx = j\n",
    "                    best = trial_denorm\n",
    "                    \n",
    "#       After this process, some of the original vectors of the population will be replaced by better ones,\n",
    "#       and after many iterations, the whole population will eventually converge towards the solution \n",
    "        yield best, fitness[best_idx]"
   ]
  },
  {
   "cell_type": "markdown",
   "metadata": {},
   "source": [
    "## <a id=\"test\"></a> Test\n",
    "\n",
    "In applied mathematics, test functions, known as artificial landscapes, are useful to evaluate characteristics of optimization algorithms, such as:\n",
    "\n",
    "    Convergence rate.\n",
    "    Precision.\n",
    "    Robustness.\n",
    "    General performance.\n",
    "    \n",
    "Here some test functions : https://en.wikipedia.org/wiki/Test_functions_for_optimization"
   ]
  },
  {
   "cell_type": "markdown",
   "metadata": {},
   "source": [
    "### <a id=\"sf\"></a> Sphere function\n"
   ]
  },
  {
   "cell_type": "code",
   "execution_count": 4,
   "metadata": {},
   "outputs": [
    {
     "name": "stdout",
     "output_type": "stream",
     "text": [
      "(array([0.]), 0.0)\n"
     ]
    }
   ],
   "source": [
    "# fobj = lambda x: sum(x**2)/len(x)\n",
    "\n",
    "it = list(de(fobj, bounds=[(-100, 100)]))\n",
    "print(it[-1])"
   ]
  },
  {
   "cell_type": "code",
   "execution_count": 1,
   "metadata": {},
   "outputs": [],
   "source": [
    "def fobj(x):\n",
    "    value = 0\n",
    "    for i in range(len(x)):\n",
    "        value += x[i]**2\n",
    "    return value / len(x)"
   ]
  },
  {
   "cell_type": "code",
   "execution_count": 16,
   "metadata": {},
   "outputs": [],
   "source": [
    "# from yabox.problems import problem\n",
    "# problem(lambda x: sum(x**2)/len(x), bounds=[(-5, 5)] * 2).plot3d()"
   ]
  },
  {
   "cell_type": "markdown",
   "metadata": {},
   "source": [
    "### <a id=\"rf\"></a> Rosenbrock function"
   ]
  },
  {
   "cell_type": "code",
   "execution_count": 51,
   "metadata": {},
   "outputs": [
    {
     "name": "stdout",
     "output_type": "stream",
     "text": [
      "(array([0.67899082, 0.45866467, 0.20189516, 0.        , 0.        ]), 2.2069600619324206)\n"
     ]
    }
   ],
   "source": [
    "result = list(de(rosen, bounds, its=5000))\n",
    "print(result[-1])"
   ]
  },
  {
   "cell_type": "markdown",
   "metadata": {},
   "source": [
    "### <a id=\"af\"></a>Ackley function\n"
   ]
  },
  {
   "cell_type": "code",
   "execution_count": null,
   "metadata": {},
   "outputs": [],
   "source": []
  },
  {
   "cell_type": "markdown",
   "metadata": {},
   "source": [
    "### <a id=\"bf\"></a> Bale function"
   ]
  },
  {
   "cell_type": "code",
   "execution_count": null,
   "metadata": {},
   "outputs": [],
   "source": []
  },
  {
   "cell_type": "markdown",
   "metadata": {},
   "source": [
    "DE doesn’t guarantee to obtain the global minimum of a function. What it does is to approach the global minimum in successive steps, as shown in Fig. 1. So in general, the more complex the function, the more iterations are needed. This can raise a new question: how does the dimensionality of a function affects the convergence of the algorithm? In general terms, the difficulty of finding the optimal solution increases exponentially with the number of dimensions (parameters). This effect is called “curse of dimensionality”."
   ]
  },
  {
   "cell_type": "code",
   "execution_count": 14,
   "metadata": {},
   "outputs": [
    {
     "data": {
      "text/plain": [
       "<matplotlib.legend.Legend at 0x2d728a55358>"
      ]
     },
     "execution_count": 14,
     "metadata": {},
     "output_type": "execute_result"
    },
    {
     "data": {
      "image/png": "[encoded data removed]",
      "text/plain": [
       "<Figure size 432x288 with 1 Axes>"
      ]
     },
     "metadata": {
      "needs_background": "light"
     },
     "output_type": "display_data"
    }
   ],
   "source": [
    "for d in [8, 16, 32, 64]:\n",
    "    it = list(de(lambda x: sum(x**2)/d, [(-100, 100)] * d, its=3000))    \n",
    "    x, f = zip(*it)\n",
    "    plt.plot(f, label='d={}'.format(d))\n",
    "plt.legend()"
   ]
  },
  {
   "cell_type": "markdown",
   "metadata": {},
   "source": [
    "# <a id=\"comp\"></a> Comparaison PYTHON\n",
    "\n",
    "\n"
   ]
  },
  {
   "cell_type": "code",
   "execution_count": 52,
   "metadata": {},
   "outputs": [
    {
     "data": {
      "text/plain": [
       "(array([1., 1., 1., 1., 1.]), 0.0)"
      ]
     },
     "execution_count": 52,
     "metadata": {},
     "output_type": "execute_result"
    }
   ],
   "source": [
    "bounds = [(0,2), (0, 2), (0, 2), (0, 2), (0, 2)]\n",
    "result = differential_evolution(rosen, bounds)\n",
    "result.x, result.fun"
   ]
  },
  {
   "cell_type": "markdown",
   "metadata": {},
   "source": [
    "# <a id=\"curve_fitting\"></a> Polynomial curve fitting example"
   ]
  },
  {
   "cell_type": "code",
   "execution_count": 29,
   "metadata": {},
   "outputs": [
    {
     "data": {
      "text/plain": [
       "<matplotlib.legend.Legend at 0x2d72b47be10>"
      ]
     },
     "execution_count": 29,
     "metadata": {},
     "output_type": "execute_result"
    },
    {
     "data": {
      "image/png": "[encoded data removed]",
      "text/plain": [
       "<Figure size 432x288 with 1 Axes>"
      ]
     },
     "metadata": {
      "needs_background": "light"
     },
     "output_type": "display_data"
    }
   ],
   "source": [
    ">>> x = np.linspace(0, 10, 500)\n",
    ">>> y = np.cos(x) + np.random.normal(0, 0.2, 500)\n",
    ">>> plt.scatter(x, y)\n",
    ">>> plt.plot(x, np.cos(x), label='cos(x)',c='r')\n",
    ">>> plt.legend()"
   ]
  },
  {
   "cell_type": "code",
   "execution_count": 24,
   "metadata": {},
   "outputs": [
    {
     "data": {
      "text/plain": [
       "[<matplotlib.lines.Line2D at 0x2d72b4b31d0>]"
      ]
     },
     "execution_count": 24,
     "metadata": {},
     "output_type": "execute_result"
    },
    {
     "data": {
      "image/png": "[encoded data removed]",
      "text/plain": [
       "<Figure size 432x288 with 1 Axes>"
      ]
     },
     "metadata": {
      "needs_background": "light"
     },
     "output_type": "display_data"
    }
   ],
   "source": [
    "def fmodel(x, w):\n",
    "    return w[0] + w[1]*x + w[2] * x**2 + w[3] * x**3 + w[4] * x**4 + w[5] * x**5\n",
    "\n",
    "plt.plot(x, fmodel(x, [1.0, -0.01, 0.01, -0.1, 0.1, -0.01]))"
   ]
  },
  {
   "cell_type": "code",
   "execution_count": 25,
   "metadata": {},
   "outputs": [],
   "source": [
    "def rmse(w):\n",
    "    y_pred = fmodel(x, w)\n",
    "    return np.sqrt(sum((y - y_pred)**2) / len(y))"
   ]
  },
  {
   "cell_type": "code",
   "execution_count": 30,
   "metadata": {},
   "outputs": [
    {
     "data": {
      "text/plain": [
       "(array([-5.00000000e+00,  5.00000000e+00, -2.21735281e+00,  4.83742691e-01,\n",
       "        -4.85131513e-02,  1.76995705e-03]), 1.4313281098446244)"
      ]
     },
     "execution_count": 30,
     "metadata": {},
     "output_type": "execute_result"
    }
   ],
   "source": [
    "result = list(de(rmse, [(-5, 5)] * 6, its=2000))\n",
    "result[-1][0]"
   ]
  },
  {
   "cell_type": "code",
   "execution_count": 35,
   "metadata": {},
   "outputs": [
    {
     "data": {
      "text/plain": [
       "array([ 0.95762832,  0.5914102 , -1.46869134,  0.53128145, -0.06763608,\n",
       "        0.00284652])"
      ]
     },
     "execution_count": 35,
     "metadata": {},
     "output_type": "execute_result"
    }
   ],
   "source": [
    "result[-1][0]"
   ]
  },
  {
   "cell_type": "code",
   "execution_count": 44,
   "metadata": {},
   "outputs": [
    {
     "data": {
      "text/plain": [
       "<matplotlib.legend.Legend at 0x2d72cbcbba8>"
      ]
     },
     "execution_count": 44,
     "metadata": {},
     "output_type": "execute_result"
    },
    {
     "data": {
      "image/png": "[encoded data removed]",
      "text/plain": [
       "<Figure size 432x288 with 1 Axes>"
      ]
     },
     "metadata": {
      "needs_background": "light"
     },
     "output_type": "display_data"
    }
   ],
   "source": [
    "plt.scatter(x, y)\n",
    "plt.plot(x, np.cos(x), label='cos(x)',c='r')\n",
    "plt.plot(x, fmodel(x, result[-1][0]), label='result',c='k')\n",
    "plt.legend()"
   ]
  },
  {
   "cell_type": "markdown",
   "metadata": {},
   "source": [
    "Now let’s see in action how the algorithm evolve the population of random vectors until all of them converge towards the solution"
   ]
  },
  {
   "cell_type": "code",
   "execution_count": 45,
   "metadata": {},
   "outputs": [],
   "source": [
    "def de_anim(fobj, bounds, mut=0.8, crossp=0.7, popsize=20, its=1000):\n",
    "    \n",
    "#   creation of a population with popsize individuals\n",
    "#   An individual is just an instantiation of the parameters of the function fobj\n",
    "#   initializes the individuals by generating random values for each parameter within the given bounds\n",
    "#   I generate uniform random numbers between 0 and 1, and then I scale the parameters\n",
    "\n",
    "    dimensions = len(bounds)\n",
    "    pop = np.random.rand(popsize, dimensions)\n",
    "    min_b, max_b = np.asarray(bounds).T\n",
    "    diff = np.fabs(min_b - max_b)\n",
    "    \n",
    "#   evaluate each vector with the function fobj\n",
    "    pop_denorm = min_b + pop * diff\n",
    "#   the evaluation of this initial population is done and stored\n",
    "    fitness = np.asarray([fobj(ind) for ind in pop_denorm])\n",
    "    best_idx = np.argmin(fitness)\n",
    "    best = pop_denorm[best_idx]\n",
    "    \n",
    "    for i in range(its):\n",
    "        for j in range(popsize):\n",
    "            idxs = [idx for idx in range(popsize) if idx != j]\n",
    "            \n",
    "#           for each vector pop[j] in the population, we select three other vectors, a, b & c\n",
    "            a, b, c = pop[np.random.choice(idxs, 3, replace = False)]\n",
    "    \n",
    "#           we create a mutant vector by combining a, b and c by computing the difference (differential evolution) \n",
    "#           A larger mutation factor increases the search radius but may slowdown the convergence of the algorithm.\n",
    "#           Values for mut are usually chosen from the interval [0.5, 2.0].\n",
    "            mutant = np.clip(a + mut * (b - c), 0, 1)\n",
    "#           note that values greater than 1 become 1, and the values smaller than 0 become 0\n",
    "\n",
    "#           recombination is about mixing the information of the mutant with the information of the current vector \n",
    "#           to create a trial vector.\n",
    "#           For each position, we decide (with some probability defined by crossp) if that number will be replaced\n",
    "#           or not by the one in the mutant at the same position.\n",
    "            cross_points = np.random.rand(dimensions) < crossp\n",
    "            if not np.any(cross_points):\n",
    "                cross_points[np.random.randint(0, dimensions)] = True\n",
    "            trial = np.where(cross_points, mutant, pop[j])\n",
    "            trial_denorm = min_b + trial * diff\n",
    "            f = fobj(trial_denorm)\n",
    "            if f < fitness[j]:\n",
    "                fitness[j] = f\n",
    "                pop[j] = trial\n",
    "                if f < fitness[best_idx]:\n",
    "                    best_idx = j\n",
    "                    best = trial_denorm\n",
    "                    \n",
    "#       After this process, some of the original vectors of the population will be replaced by better ones,\n",
    "#       and after many iterations, the whole population will eventually converge towards the solution \n",
    "        yield min_b + pop * diff, fitness, best_idx"
   ]
  },
  {
   "cell_type": "code",
   "execution_count": 47,
   "metadata": {},
   "outputs": [
    {
     "data": {
      "image/png": "[encoded data removed]",
      "text/plain": [
       "<Figure size 432x288 with 1 Axes>"
      ]
     },
     "metadata": {
      "needs_background": "light"
     },
     "output_type": "display_data"
    }
   ],
   "source": [
    "import matplotlib.animation as animation\n",
    "from IPython.display import HTML\n",
    "\n",
    "result = list(de_anim(rmse, [(-5, 5)] * 6, its=2000))\n",
    "\n",
    "fig, ax = plt.subplots()\n",
    "\n",
    "def animate(i):\n",
    "    ax.clear()\n",
    "    ax.set_ylim([-2, 2])\n",
    "    ax.scatter(x, y)\n",
    "    pop, fit, idx = result[i]\n",
    "    for ind in pop:\n",
    "        data = fmodel(x, ind)\n",
    "        ax.plot(x, data, alpha=0.3)"
   ]
  },
  {
   "cell_type": "code",
   "execution_count": 48,
   "metadata": {},
   "outputs": [
    {
     "ename": "RuntimeError",
     "evalue": "Requested MovieWriter (ffmpeg) not available",
     "output_type": "error",
     "traceback": [
      "\u001b[1;31m---------------------------------------------------------------------------\u001b[0m",
      "\u001b[1;31mKeyError\u001b[0m                                  Traceback (most recent call last)",
      "\u001b[1;32m~\\Anaconda3\\lib\\site-packages\\matplotlib\\animation.py\u001b[0m in \u001b[0;36m__getitem__\u001b[1;34m(self, name)\u001b[0m\n\u001b[0;32m    160\u001b[0m         \u001b[1;32mtry\u001b[0m\u001b[1;33m:\u001b[0m\u001b[1;33m\u001b[0m\u001b[1;33m\u001b[0m\u001b[0m\n\u001b[1;32m--> 161\u001b[1;33m             \u001b[1;32mreturn\u001b[0m \u001b[0mself\u001b[0m\u001b[1;33m.\u001b[0m\u001b[0mavail\u001b[0m\u001b[1;33m[\u001b[0m\u001b[0mname\u001b[0m\u001b[1;33m]\u001b[0m\u001b[1;33m\u001b[0m\u001b[1;33m\u001b[0m\u001b[0m\n\u001b[0m\u001b[0;32m    162\u001b[0m         \u001b[1;32mexcept\u001b[0m \u001b[0mKeyError\u001b[0m\u001b[1;33m:\u001b[0m\u001b[1;33m\u001b[0m\u001b[1;33m\u001b[0m\u001b[0m\n",
      "\u001b[1;31mKeyError\u001b[0m: 'ffmpeg'",
      "\nDuring handling of the above exception, another exception occurred:\n",
      "\u001b[1;31mRuntimeError\u001b[0m                              Traceback (most recent call last)",
      "\u001b[1;32m<ipython-input-48-d176edbd5b82>\u001b[0m in \u001b[0;36m<module>\u001b[1;34m\u001b[0m\n\u001b[0;32m      1\u001b[0m \u001b[0manim\u001b[0m \u001b[1;33m=\u001b[0m \u001b[0manimation\u001b[0m\u001b[1;33m.\u001b[0m\u001b[0mFuncAnimation\u001b[0m\u001b[1;33m(\u001b[0m\u001b[0mfig\u001b[0m\u001b[1;33m,\u001b[0m \u001b[0manimate\u001b[0m\u001b[1;33m,\u001b[0m \u001b[0mframes\u001b[0m\u001b[1;33m=\u001b[0m\u001b[1;36m2000\u001b[0m\u001b[1;33m,\u001b[0m \u001b[0minterval\u001b[0m\u001b[1;33m=\u001b[0m\u001b[1;36m20\u001b[0m\u001b[1;33m)\u001b[0m\u001b[1;33m\u001b[0m\u001b[1;33m\u001b[0m\u001b[0m\n\u001b[1;32m----> 2\u001b[1;33m \u001b[0mHTML\u001b[0m\u001b[1;33m(\u001b[0m\u001b[0manim\u001b[0m\u001b[1;33m.\u001b[0m\u001b[0mto_html5_video\u001b[0m\u001b[1;33m(\u001b[0m\u001b[1;33m)\u001b[0m\u001b[1;33m)\u001b[0m\u001b[1;33m\u001b[0m\u001b[1;33m\u001b[0m\u001b[0m\n\u001b[0m",
      "\u001b[1;32m~\\Anaconda3\\lib\\site-packages\\matplotlib\\animation.py\u001b[0m in \u001b[0;36mto_html5_video\u001b[1;34m(self, embed_limit)\u001b[0m\n\u001b[0;32m   1324\u001b[0m                 \u001b[1;31m# We create a writer manually so that we can get the\u001b[0m\u001b[1;33m\u001b[0m\u001b[1;33m\u001b[0m\u001b[1;33m\u001b[0m\u001b[0m\n\u001b[0;32m   1325\u001b[0m                 \u001b[1;31m# appropriate size for the tag\u001b[0m\u001b[1;33m\u001b[0m\u001b[1;33m\u001b[0m\u001b[1;33m\u001b[0m\u001b[0m\n\u001b[1;32m-> 1326\u001b[1;33m                 \u001b[0mWriter\u001b[0m \u001b[1;33m=\u001b[0m \u001b[0mwriters\u001b[0m\u001b[1;33m[\u001b[0m\u001b[0mrcParams\u001b[0m\u001b[1;33m[\u001b[0m\u001b[1;34m'animation.writer'\u001b[0m\u001b[1;33m]\u001b[0m\u001b[1;33m]\u001b[0m\u001b[1;33m\u001b[0m\u001b[1;33m\u001b[0m\u001b[0m\n\u001b[0m\u001b[0;32m   1327\u001b[0m                 writer = Writer(codec='h264',\n\u001b[0;32m   1328\u001b[0m                                 \u001b[0mbitrate\u001b[0m\u001b[1;33m=\u001b[0m\u001b[0mrcParams\u001b[0m\u001b[1;33m[\u001b[0m\u001b[1;34m'animation.bitrate'\u001b[0m\u001b[1;33m]\u001b[0m\u001b[1;33m,\u001b[0m\u001b[1;33m\u001b[0m\u001b[1;33m\u001b[0m\u001b[0m\n",
      "\u001b[1;32m~\\Anaconda3\\lib\\site-packages\\matplotlib\\animation.py\u001b[0m in \u001b[0;36m__getitem__\u001b[1;34m(self, name)\u001b[0m\n\u001b[0;32m    162\u001b[0m         \u001b[1;32mexcept\u001b[0m \u001b[0mKeyError\u001b[0m\u001b[1;33m:\u001b[0m\u001b[1;33m\u001b[0m\u001b[1;33m\u001b[0m\u001b[0m\n\u001b[0;32m    163\u001b[0m             raise RuntimeError(\n\u001b[1;32m--> 164\u001b[1;33m                 'Requested MovieWriter ({}) not available'.format(name))\n\u001b[0m\u001b[0;32m    165\u001b[0m \u001b[1;33m\u001b[0m\u001b[0m\n\u001b[0;32m    166\u001b[0m \u001b[1;33m\u001b[0m\u001b[0m\n",
      "\u001b[1;31mRuntimeError\u001b[0m: Requested MovieWriter (ffmpeg) not available"
     ]
    }
   ],
   "source": [
    "anim = animation.FuncAnimation(fig, animate, frames=2000, interval=20)\n",
    "HTML(anim.to_html5_video())"
   ]
  },
  {
   "cell_type": "markdown",
   "metadata": {},
   "source": [
    "# <a id=\"var\"></a> DE Variations\n",
    "\n",
    "The schema used in this version of the algorithm is called rand/1/bin because the vectors are randomly chosen (rand), we only used 1 vector difference and the crossover strategy used to mix the information of the trial and the target vectors was a binomial crossover. But there are other variants:\n",
    "\n",
    "<div class=\"alert alert-warning\">\n",
    "\n",
    "<ul> \n",
    "<li><b>Mutation schemas:</b>\n",
    "<li><b>Crossover schemas:</b>\n"
   ]
  },
  {
   "cell_type": "markdown",
   "metadata": {},
   "source": [
    "In conclusion, Differential Evolution (DE) is a very simple but powerful algorithm for optimization of complex functions that works pretty well in those problems where other techniques (such as Gradient Descent) cannot be used. In this post, we’ve seen how to implement it in just 27 lines of Python with Numpy, and we’ve seen how the algorithm works step by step."
   ]
  },
  {
   "cell_type": "markdown",
   "metadata": {},
   "source": [
    "# <a id=\"ref\"></a> References\n",
    "\n",
    "Useful imports and configuration:"
   ]
  },
  {
   "cell_type": "markdown",
   "metadata": {},
   "source": [
    "Pygmo. A powerful library for numerical optimization, developed and mantained by the ESA. Pygmo is a scientific library providing a large number of optimization problems and algorithms under the same powerful parallelization abstraction built around the generalized island-model paradigm.\n",
    "\n",
    "Platypus. Platypus is a framework for evolutionary computing in Python with a focus on multiobjective evolutionary algorithms (MOEAs). It differs from existing optimization libraries, including PyGMO, Inspyred, DEAP, and Scipy, by providing optimization algorithms and analysis tools for multiobjective optimization\n",
    "\n",
    "Scipy. The well known scientific library for Python includes a fast implementation of the Differential Evolution algorithm."
   ]
  }
 ],
 "metadata": {
  "kernelspec": {
   "display_name": "Python 3",
   "language": "python",
   "name": "python3"
  },
  "language_info": {
   "codemirror_mode": {
    "name": "ipython",
    "version": 3
   },
   "file_extension": ".py",
   "mimetype": "text/x-python",
   "name": "python",
   "nbconvert_exporter": "python",
   "pygments_lexer": "ipython3",
   "version": "3.7.3"
  }
 },
 "nbformat": 4,
 "nbformat_minor": 2
}
